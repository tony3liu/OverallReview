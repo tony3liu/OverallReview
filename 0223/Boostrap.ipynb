{
 "cells": [
  {
   "cell_type": "markdown",
   "source": [
    "什么是boostrap?\n",
    "一个前端开发框架，里面存在很多已经写好的样式和组件\n",
    "下载Boostrap\n",
    "在页面上引入Bootstrap\n",
    "在编写html时，按照Bootstrap的规定进行编写+自定制"
   ],
   "metadata": {
    "collapsed": false
   },
   "id": "4842eec8d175544b"
  }
 ],
 "metadata": {
  "kernelspec": {
   "display_name": "Python 3",
   "language": "python",
   "name": "python3"
  },
  "language_info": {
   "codemirror_mode": {
    "name": "ipython",
    "version": 2
   },
   "file_extension": ".py",
   "mimetype": "text/x-python",
   "name": "python",
   "nbconvert_exporter": "python",
   "pygments_lexer": "ipython2",
   "version": "2.7.6"
  }
 },
 "nbformat": 4,
 "nbformat_minor": 5
}
