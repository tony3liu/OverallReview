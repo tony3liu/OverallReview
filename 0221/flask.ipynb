{
 "cells": [
  {
   "cell_type": "code",
   "outputs": [],
   "source": [
    "# pip install flask"
   ],
   "metadata": {
    "collapsed": false
   },
   "id": "90d20b6f56f2207"
  },
  {
   "cell_type": "markdown",
   "source": [
    "首先要实例化Flask()类"
   ],
   "metadata": {
    "collapsed": false
   },
   "id": "d3b84430044dd36"
  },
  {
   "cell_type": "code",
   "outputs": [],
   "source": [
    "from flask import Flask,render_template\n",
    "app = Flask(__name__)"
   ],
   "metadata": {
    "collapsed": false
   },
   "id": "2c766edc8f237405"
  },
  {
   "cell_type": "markdown",
   "source": [
    "设置路由，即url和函数的映射关系，用@app.route('url')装饰器"
   ],
   "metadata": {
    "collapsed": false
   },
   "id": "ce93a6c9dae2bcd6"
  },
  {
   "cell_type": "code",
   "outputs": [],
   "source": [
    "@app.route('/show/info')\n",
    "def index():\n",
    "    return '中国永成'"
   ],
   "metadata": {
    "collapsed": false
   },
   "id": "7c888c61f8e07ae8"
  },
  {
   "cell_type": "markdown",
   "source": [
    "运行web需要app.run()"
   ],
   "metadata": {
    "collapsed": false
   },
   "id": "54d97594315aa0d6"
  },
  {
   "cell_type": "code",
   "outputs": [],
   "source": [
    "if __name__ == '__main__':\n",
    "    app.run()"
   ],
   "metadata": {
    "collapsed": false
   },
   "id": "62976f2dc769ebd6"
  },
  {
   "cell_type": "markdown",
   "source": [
    "flask支持将html写进文件，用render_template('index.html')打开并渲染html文件\n",
    "框架默认去本项目下的templates文件夹下找html,注意是templates，复数！！！"
   ],
   "metadata": {
    "collapsed": false
   },
   "id": "899a997e3c24ff61"
  },
  {
   "cell_type": "code",
   "outputs": [],
   "source": [
    "@app.route('/show/info2')\n",
    "def index():\n",
    "    return render_template('index.html')"
   ],
   "metadata": {
    "collapsed": false
   },
   "id": "72d260eb4c007fe4"
  },
  {
   "cell_type": "markdown",
   "source": [
    "上面我们定义了一个接口，或者说绑定了一个函数与url的关系，还需要定义请求方式"
   ],
   "metadata": {
    "collapsed": false
   },
   "id": "6d2d6b37c5f5624f"
  },
  {
   "cell_type": "code",
   "outputs": [],
   "source": [
    "@app.route('/show/info3',methods=['get'])\n",
    "def index2():\n",
    "    return render_template('index3.html')"
   ],
   "metadata": {
    "collapsed": false
   },
   "id": "20e9e7bd61412353"
  },
  {
   "cell_type": "markdown",
   "source": [
    "上面我们用了默认的读取模版的路径，如果想改呢？就需要在Flask()实例化的时候改"
   ],
   "metadata": {
    "collapsed": false
   },
   "id": "d351475301279ef7"
  },
  {
   "cell_type": "code",
   "outputs": [],
   "source": [
    "app2 = Flask(__name__,template_folder='templates222')"
   ],
   "metadata": {
    "collapsed": false
   },
   "id": "87739eb27efe669b"
  },
  {
   "cell_type": "markdown",
   "source": [
    "如果说想指定主机ip和端口去运行，可以在app.run()中加参数"
   ],
   "metadata": {
    "collapsed": false
   },
   "id": "62dd937d959a66a8"
  },
  {
   "cell_type": "code",
   "outputs": [],
   "source": [
    "if __name__ == '__main__':\n",
    "    app2.run(host='xxx',port=12898)"
   ],
   "metadata": {
    "collapsed": false
   },
   "id": "c72094a1a23b7788"
  },
  {
   "cell_type": "markdown",
   "source": [
    "### html里面，表单的提交：\n",
    "- form标签包裹要提交的数据\n",
    "- form标签提交的接口地址，和请求方式，要放在action和method中，如<form method=‘get’ action='/act/show'></form>\n",
    "- form标签内输入的数据要有name，如<input type='password' name='pp'>\n",
    "- form标签内要有提交组件，如提交按钮<input type='submit' value='提交'>"
   ],
   "metadata": {
    "collapsed": false
   },
   "id": "7b791855fe7e43a"
  },
  {
   "cell_type": "markdown",
   "source": [
    "### 演示一个前后端交互的示例：\n",
    "当前前端的form表单提交的method = 'POST'，且action=‘/show’时，就会调用到index方法\n",
    "并且接收到请求数据，通过request.form.get()拿到对应参数，经过处理，然后返回内容\n",
    "当然，如果是get请求，就需要通过request.args.get()拿到对应请求参数"
   ],
   "metadata": {
    "collapsed": false
   },
   "id": "aea9648908f8cbdf"
  },
  {
   "cell_type": "markdown",
   "source": [],
   "metadata": {
    "collapsed": false
   },
   "id": "daf027be6c82bf13"
  },
  {
   "cell_type": "code",
   "outputs": [],
   "source": [
    "from flask import Flask, render_template, request\n",
    "app = Flask(__name__)\n",
    "@app.route('/show', methods=['get', 'post'])\n",
    "def index():\n",
    "    if request.method == 'POST':\n",
    "        name = request.form.get('name')\n",
    "        namelist = request.form.getlist('namelist')\n",
    "        return f'hello {name} from {namelist}' \n",
    "    name = request.args.get('name')\n",
    "    return f'hello {name}'\n",
    "'''\n",
    "    <form method=\"post\">\n",
    "        <input type=\"text\" name=\"name\">\n",
    "        <input type=\"submit\" value=\"提交\">\n",
    "    </form>\n",
    "'''\n",
    "if __name__ == '__main__':\n",
    "    app.run()"
   ],
   "metadata": {
    "collapsed": false
   },
   "id": "92cad376921f78a4"
  },
  {
   "cell_type": "markdown",
   "source": [
    "上面的交互例子，我们用了前端输入 然后向后端请求的方式。\n",
    "对于前端来说，前端很多交互是点选的方式，如<input type='radio' name='gender'>\n",
    "这时要想将正确的传参给后端，就得约定一些code(例如0是女，1是男)，并在组件中写入这些code，这样前端点选时，就可以将对应code发送给后端，\n",
    "如<input type='radio' name='gender value='0'>\n",
    "同样道理，但对于select下拉组件的写法稍微有点不同，得这么写：\n",
    "<select name='city'>\n",
    "    <option value='bj'>北京</option>\n",
    "    <option value='sh'>上海</option>\n",
    "</select>"
   ],
   "metadata": {
    "collapsed": false
   },
   "id": "45ceecc0a2be41b4"
  },
  {
   "cell_type": "markdown",
   "source": [
    "上面的例子，我们对一个接口实现了get和post的两种处理，\n",
    "在日常开发中，可以将get用于跳转，直接return render_template('/index.html')\n",
    "post请求做接口的一些业务逻辑的处理"
   ],
   "metadata": {
    "collapsed": false
   },
   "id": "2de9f46a419d69ee"
  },
  {
   "cell_type": "markdown",
   "source": [
    "# css常用知识：\n",
    ".class{}\n",
    "#id{}\n",
    "标签选择器 标签名{}\n",
    "属性选择器 标签名[属性名=属性值]{} .class[属性名=属性值]{}\n",
    "后代选择器 .class li{}   标签名1 #id{}  跨代找： .class > li{}\n",
    "\n",
    "多个样式的覆盖问题：\n",
    "- 当标签同时应用2个样式时<div class=\"c1,c2\"></div> ：两个样式同时应用，但有相同样式不同值时，CSS文件的写在下方的样式会覆盖上方的样式\n",
    "- 如果不想让CSS文件的下方写的样式覆盖上方写的样式，可以加\"！important\",如 .cl{ color:black !important;}\n",
    "\n",
    "## 高度和宽度\n",
    ".c{\n",
    "    height:200px;\n",
    "    width:500px;\n",
    "    }\n",
    "- 宽度，支持百分比\n",
    "- 行内标签：默认无效\n",
    "- 块级标签：默认有效（有一定的限制，即使有右侧区域空白，也不允许占用）\n",
    "## 块级标签和行内标签\n",
    "- 块级\n",
    "- 行内\n",
    "- css样式：标签->display:inline-block,解除块级标签的限制,就可以对块级标签设置长宽\n",
    "                .c{\n",
    "                    display:inline-block;\n",
    "                    height:200px;\n",
    "                    width:500px;\n",
    "                  }\n",
    "                  - 引申，将行内标签变为块级标签：<span style=\"display:block\"></span>\n",
    "                  - 将块级标签变为行内标签：<div style=\"display:inline\"></div>\n",
    "使用频次top2：块级>块级+display:inline-block\n",
    "## 字体和颜色\n",
    "    .c{\n",
    "        color:red;\n",
    "        color:RAGB颜色;\n",
    "        font-size:19px;字体大小\n",
    "        font-size:large;\n",
    "        font-weight:100;字体粗细\n",
    "        font-family:\"arvial\";字体\n",
    "    }\n",
    "## 文字对齐方式\n",
    "    .c{\n",
    "        text-align:center;水平居中\n",
    "        line-height:59px;一行文字的垂直方向居中，59为div的高度\n",
    "    }\n",
    "## 浮动\n",
    "    .c{\n",
    "        float:right;\n",
    "    }\n",
    "上面我们谈到，div默认时块级标签，有一定限制，即使旁边有空白，也不允许占用。但是div一旦浮动起来，就不一样了,类似加了display:inline-block;\n",
    "    <div style=\"float:right\">右边</div>\n",
    "    <div style=\"float:left\">左边</div>\n",
    "标签浮动起来后，就会脱离文档流。我们就可以通过增加一个div块，并将这个块clear:both;消除这种影响。\n",
    "    <div style=\"float:right;\">右边</div>\n",
    "    <div style=\"float:left\">左边</div>\n",
    "    <div style=\"clear:both\"></div>\n",
    "## 边距\n",
    "### 内边距，设置后会把div撑大哦\n",
    "padding-top/bottom:距离内部上/下边界的距离\n",
    "padding-left/right:距离内部左/右边界的距离\n",
    "padding：20px;上下左右全部设置内边距\n",
    "padding:20px 10px 20px 10px;上-右-下-左的内边距，顺时针方向\n",
    "### 外边距，设置后，周围的标签会距离本标签外部边界的距离\n",
    "margin-top/bottom:\n",
    "margin-left/right:\n",
    "margin:\n",
    "margin:20px 10px 20px 10px;上-右-下-左的外边距，顺时针方向\n",
    "tips:\n",
    "- H5的body标签有默认边距，所以要记得写：\n",
    "    body{\n",
    "  \n",
    "        margin:0;\n",
    "    }\n",
    "- 内容区域居中的设置\n",
    "    .div1{\n",
    "  \n",
    "        height:200px;\n",
    "        width:200px;宽度一定要有\n",
    "        margin:0 auto;(上下是0，左右是auto)\n",
    "    }\n",
    "## hover(伪类)\n",
    "当鼠标悬浮上去的样式写法\n",
    "    .c1:hover{\n",
    "    \n",
    "        color:red;\n",
    "        font-size:50px;\n",
    "    }\n",
    "    \n",
    "++ 悬浮弹窗效果演示：\n",
    "    <style>\n",
    "        .download{\n",
    "            display:none; /* 隐藏显示 */\n",
    "        }\n",
    "        .app:hover .download{ /* app的div被hover后，将download的样式重写 */\n",
    "            display:block;  \n",
    "        }\n",
    "    </style>\n",
    "    \n",
    "    <div class=\"app\">\n",
    "        <div class=\"downloiad\">\n",
    "            <img src=\"www.baidu.com\">\n",
    "        </div>\n",
    "    </div>\n",
    "\n",
    "## after(伪类)\n",
    "在标签尾部追加内容,常用于让float回归文档流，作用和另外加一个<div>+样式设为clear：both;相同，但这么做不用直接在html中加另外加div\n",
    "+++ 演示：\n",
    "    <style>\n",
    "        .c3{\n",
    "            float:left;\n",
    "        }\n",
    "        .clearfix:after{\n",
    "            content:\"\";\n",
    "            display:none;\n",
    "            clear:both;\n",
    "        }\n",
    "    </style>\n",
    "    \n",
    "    <div class=\"clearfix\">\n",
    "        <div class=\"c3\">\n",
    "        </div>\n",
    "    </div>\n",
    "\n",
    "## position\n",
    "类似excel中的冻结作用\n",
    "- fixed：固定在窗口的某个位置.不会跟随页面滑动而改变\n",
    "++ 演示1:返回最上按钮的悬浮\n",
    "    <style>\n",
    "        .back{\n",
    "            position:fixed\n",
    "            width:60px;\n",
    "            height:60px;\n",
    "            right:10px; /* 冻结在页面的位置 */\n",
    "            bottom:50px;/* 冻结在页面的位置 */\n",
    "        }\n",
    "    </style>\n",
    "  \n",
    "    <div class=\"back\">\n",
    "        <button>\n",
    "        返回顶部\n",
    "        </button>\n",
    "    </div>\n",
    "++ 演示2 登陆对话框悬浮在窗口正中央，且弹窗下有遮罩的浮层\n",
    "    <style>\n",
    "        .login{\n",
    "            position:fixed\n",
    "            width:60px;\n",
    "            height:60px;\n",
    "            background-color:write;\n",
    "            left:0; /* 冻结在页面的位置 */\n",
    "            right:0; /* 冻结在页面的位置 */\n",
    "            margin:0,auto;\n",
    "            top:200px;/* 冻结在页面的位置 */\n",
    "            z-index:1000;\n",
    "        }\n",
    "        .mask{\n",
    "            position:fixed;\n",
    "            background-color:black;\n",
    "            left:0; /* 四个方向定位均设置伪0，而且本身不设置宽高，就会把整个页面遮罩住 */\n",
    "            right:0;\n",
    "            top:0;\n",
    "            bottom:0;\n",
    "            opacity:0.5; /* 透明度 */\n",
    "            z-index:999;\n",
    "        }\n",
    "    </style>\n",
    "    \n",
    "    <div class=\"mask\">\n",
    "        <div class=\"login\">\n",
    "            登陆弹窗\n",
    "        </div>\n",
    "    </div>\n",
    "    \n",
    "- relative(相对) & absolute(绝对)\n",
    "相对一个父级标签的位置进行悬浮另一个标签,父级标签设置为position：relative相对，子级标签设置为position：absolute+位置（基于父级标签的位置）\n",
    "    <style>\n",
    "        .parent{\n",
    "            position:relative;\n",
    "        }\n",
    "        .son{\n",
    "            position:absolute;\n",
    "            left:20px;\n",
    "            top:20px;\n",
    "            display:none;\n",
    "        }\n",
    "        .parent:hover .son{\n",
    "            display:block;\n",
    "        }\n",
    "    </style>\n",
    "    <div class=\"parent\">\n",
    "        父级块\n",
    "        <div class=\"son\">\n",
    "            子块\n",
    "        </div>\n",
    "    </div>\n",
    "\n",
    "## 边框&背景色\n",
    ".demo{\n",
    "    border:3px red solid;(粗细，颜色，样式)\n",
    "    border-left:5px solid transport;(transport是透明色)\n",
    "    background-color:red\n",
    "}\n",
    "\n"
   ],
   "metadata": {
    "collapsed": false
   },
   "id": "acf7d14ab73f5c46"
  }
 ],
 "metadata": {
  "kernelspec": {
   "display_name": "Python 3",
   "language": "python",
   "name": "python3"
  },
  "language_info": {
   "codemirror_mode": {
    "name": "ipython",
    "version": 2
   },
   "file_extension": ".py",
   "mimetype": "text/x-python",
   "name": "python",
   "nbconvert_exporter": "python",
   "pygments_lexer": "ipython2",
   "version": "2.7.6"
  }
 },
 "nbformat": 4,
 "nbformat_minor": 5
}
