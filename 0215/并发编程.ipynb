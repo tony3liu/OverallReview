{
 "cells": [
  {
   "cell_type": "code",
   "execution_count": null,
   "id": "initial_id",
   "metadata": {
    "collapsed": true
   },
   "outputs": [],
   "source": [
    "import os\n",
    "import threading"
   ]
  },
  {
   "cell_type": "markdown",
   "source": [
    "多线程主要要学会threading.Thread(target,args)方法的运用"
   ],
   "metadata": {
    "collapsed": false
   },
   "id": "48b8d43429f5feeb"
  },
  {
   "cell_type": "code",
   "outputs": [],
   "source": [
    "def task(a, b):\n",
    "    pass\n",
    "\n",
    "# 创建线程池\n",
    "threading_pool = []\n",
    "a = 1\n",
    "b = 2\n",
    "for i in range(10):\n",
    "    thread = threading.Thread(target=task, args=(a, b))  #创建线程\n",
    "    threading_pool.append(thread)  # 加入线程池\n",
    "    thread.start()  # 线程准备就绪，等待CPU调度\n",
    "\n",
    "for thread in threading_pool:\n",
    "    thread.join()  # 等待主线程执行完毕，再继续运行下面的代码"
   ],
   "metadata": {
    "collapsed": false
   },
   "id": "b86c1f3f76859d85"
  },
  {
   "cell_type": "markdown",
   "source": [
    "上面的方法在第一个for循环中，用到了range,这个就可以对线程数进行控制\n",
    "同时在上面的基础上，也可以再对args的参数进行控制，在外层加一个针对args的循环，让每个线程对遍历一遍args；\n",
    "或者在内层加一个针对args的for循环，针对每个args均创建range个线程"
   ],
   "metadata": {
    "collapsed": false
   },
   "id": "ee1903e3cb650979"
  },
  {
   "cell_type": "markdown",
   "source": [
    "# 创建线程的第二种方法，通过类创建\n",
    "除了上面直接通过threading.Thread(target,args)方法创建外，可以写一个类继承threading.Thread类，然后重写__init__()和run()方法，这样就可以在创建线程时传入参数；\n",
    "这里如果通过重写__init__()方法，可以把外部方法引入这个类中，类似运用threading.Thread(target,args)\n",
    "如果新加一个类中的方法如run(),就可以对这个线程的创建进一步定制化"
   ],
   "metadata": {
    "collapsed": false
   },
   "id": "f0d01cb98bde81ac"
  },
  {
   "cell_type": "code",
   "outputs": [],
   "source": [
    "class MyThread(threading.Thread):\n",
    "    def __init__(self, target, args):\n",
    "        super().__init__(target=target, args=args)\n",
    "\n",
    "    def run(self):\n",
    "        pass\n",
    "\n",
    "\n",
    "t = MyThread(target=task, args=(a, b))\n",
    "t.start()"
   ],
   "metadata": {
    "collapsed": false
   },
   "id": "416c03eb26adfc5a"
  },
  {
   "cell_type": "code",
   "outputs": [],
   "source": [
    "thread = MyThread(target=task, args=(a, b))"
   ],
   "metadata": {
    "collapsed": false
   },
   "id": "6a9de75fbfc36de"
  },
  {
   "cell_type": "markdown",
   "source": [
    "# 守护线程(要在start()之前)"
   ],
   "metadata": {
    "collapsed": false
   },
   "id": "55c8ec5ebfe3f36d"
  },
  {
   "cell_type": "code",
   "outputs": [],
   "source": [
    "thread2 = threading.Thread(target=task, args=(a, b))\n",
    "thread2.setDaemon(True)  # 守护线程，主线程执行完毕，所有子线程随之全部结束\n",
    "thread2.setDaemon(False)  # 非守护线程，所有子线程执行完毕后，主线程才结束"
   ],
   "metadata": {
    "collapsed": false
   },
   "id": "5c436693b67f679"
  },
  {
   "cell_type": "markdown",
   "source": [
    "# 设置线程名称(要在start()之前)\n",
    "可以为每个线程单独命名，有利于后面对线程更详细的控制"
   ],
   "metadata": {
    "collapsed": false
   },
   "id": "4ad9f34efa4a0a30"
  },
  {
   "cell_type": "code",
   "outputs": [],
   "source": [
    "thread.setName(f'thread-{a}')"
   ],
   "metadata": {
    "collapsed": false
   },
   "id": "40e9ef38b2dbfb22"
  },
  {
   "cell_type": "markdown",
   "source": [
    "# 线程安全\n",
    "如果多线程执行2个方法，两个方法就会互相干涉，造成结果出错，这就是线程不安全\n",
    "为了解决这个问题，就需要引入线程锁，让两个方法运用同一把锁。使用线程时需要先申请锁，用完再释放锁，这样就能保证不会同时干涉"
   ],
   "metadata": {
    "collapsed": false
   },
   "id": "4c6d4835a6e16c2e"
  },
  {
   "cell_type": "code",
   "outputs": [],
   "source": [
    "import threading\n",
    "\n",
    "lock = threading.RLock()  # 创建锁\n",
    "\n",
    "\n",
    "def task_1(a, b):\n",
    "    lock.acquire()  # 申请锁\n",
    "    # do something\n",
    "    lock.release()  # 释放锁\n",
    "\n",
    "\n",
    "def task_2(a, b):\n",
    "    lock.acquire()\n",
    "    # do something\n",
    "    lock.release()\n",
    "\n",
    "\n",
    "t1 = threading.Thread(target=task_1, args=(a, b))\n",
    "t2 = threading.Thread(target=task_2, args=(a, b))\n",
    "t1.start()\n",
    "t2.start()\n",
    "t1.join()\n",
    "t2.join()"
   ],
   "metadata": {
    "collapsed": false
   },
   "id": "ab08a8661f9d7e0d"
  },
  {
   "cell_type": "markdown",
   "source": [
    "上面演示了在方法中手动申请锁（加锁）和释放锁（解锁），但其实更常用的是with上下文管理器实现自动加锁/解锁"
   ],
   "metadata": {
    "collapsed": false
   },
   "id": "f35c16e1134ac532"
  },
  {
   "cell_type": "code",
   "outputs": [],
   "source": [
    "def task_3(a, b):\n",
    "    with lock:\n",
    "        # do something\n",
    "        print(\"lock operate auto\")"
   ],
   "metadata": {
    "collapsed": false
   },
   "id": "25e3e9700c191285"
  },
  {
   "cell_type": "markdown",
   "source": [
    "在python的开发工作中，有些操作本身是集成锁的，也就是自带线程安全，具体要看开发文档举例，list.append()方法就是线程安全的，实际上针对list和dict对象的大多数操作如sort，赋值，取值等等，都是线程安全的。还是一句话：\n",
    "-- 要看开发文档"
   ],
   "metadata": {
    "collapsed": false
   },
   "id": "f4cdf50ec0b45fc7"
  },
  {
   "cell_type": "markdown",
   "source": [
    "threading.Lock()和threading.RLock()\n",
    "### Lock()是互斥锁。仅支持加锁-解锁，不支持多次加锁-多次解锁的嵌套锁\n",
    "### RLock()是递归锁。不仅支持加锁-解锁，也支持多次加锁-多次解锁的嵌套锁"
   ],
   "metadata": {
    "collapsed": false
   },
   "id": "ca1a102aa41d1f1c"
  },
  {
   "cell_type": "code",
   "outputs": [],
   "source": [
    "import threading\n",
    "\n",
    "lock2 = threading.Lock()  # 创建单锁\n",
    "lock3 = threading.RLock() # 创建嵌套锁\n",
    "\n",
    "def task_1(feature):\n",
    "    lock2.acquire()  # 申请锁\n",
    "    # do something\n",
    "    print(f'{feature.result()}')\n",
    "    lock2.release()  # 释放锁\n",
    "\n",
    "\n",
    "def task_2(a, b):\n",
    "    lock3.acquire()  # 申请锁1\n",
    "    lock3.acquire()  # 申请锁2\n",
    "    lock3.acquire()  # 申请锁3\n",
    "    # do something\n",
    "    return a+b\n",
    "    lock3.release()  # 释放锁3\n",
    "    lock3.release()  # 释放锁2\n",
    "    lock3.release()  # 释放锁1\n",
    "\n",
    "\n",
    "# 最常见RLock写法\n",
    "def task_3(a,b):\n",
    "    with lock3:\n",
    "        with lock3:\n",
    "            with lock3:\n",
    "                # do something\n",
    "                print(\"Rlock operate auto\")"
   ],
   "metadata": {
    "collapsed": false
   },
   "id": "faf4de50e67a8cb"
  },
  {
   "cell_type": "markdown",
   "source": [
    "### 为什么要推荐用RLock，因为协同开发时，可能会出现不同开发人员多次加锁的情况，Lock并不支持这么做，会造成死锁"
   ],
   "metadata": {
    "collapsed": false
   },
   "id": "8cf052fe962bd723"
  },
  {
   "cell_type": "markdown",
   "source": [
    "# 死锁\n",
    "-1 出现只有加锁，没有解锁的情况，当再次加锁时，就会造成死锁\n",
    "-2 用Lock()进行嵌套加锁时，会造成死锁"
   ],
   "metadata": {
    "collapsed": false
   },
   "id": "8192d78a5b28cf79"
  },
  {
   "cell_type": "markdown",
   "source": [
    "# 线程池\n",
    "线程池的作用：限制创建有限个线程，即线程池是有容量限制的。因为线程无限增多后，其实对性能的损失是非常大的。"
   ],
   "metadata": {
    "collapsed": false
   },
   "id": "e08611af89b07f79"
  },
  {
   "cell_type": "code",
   "outputs": [],
   "source": [
    "from concurrent.futures import ThreadPoolExecutor\n",
    "\n",
    "pool = ThreadPoolExecutor(100) # 创建一个线程池，容量限制100"
   ],
   "metadata": {
    "collapsed": false
   },
   "id": "efcf259b650ef657"
  },
  {
   "cell_type": "markdown",
   "source": [
    "# 线程池的用法"
   ],
   "metadata": {
    "collapsed": false
   },
   "id": "550535f07e2dec3e"
  },
  {
   "cell_type": "code",
   "outputs": [],
   "source": [
    "futures = pool.submit(task_3,a,b) # 将task_3方法丢入线程池执行\n",
    "pool.shutdown(True) # 线程池任务全部执行完成后，主线程才会继续往下执行代码，类似join()"
   ],
   "metadata": {
    "collapsed": false
   },
   "id": "9a278bd106f87f8a"
  },
  {
   "cell_type": "code",
   "outputs": [],
   "source": [
    "# 线程池的回调函数：执行完线程池的方法后，可以调用另一个方法.类似后置处理teardown方法\n",
    "list_a = [1,3,4]\n",
    "list_b = ['a','b','c']\n",
    "futures_list = []\n",
    "for a in list_a:\n",
    "    for b in  list_b:\n",
    "        futures_2 = pool.submit(task_2,a,b)\n",
    "        futures_2.add_done_callback(task_1) # 线程池任务执行完成后，调用task_1方法\n",
    "        futures_list.append(futures_2)\n",
    "        \"\"\"注意：对于add_done_callback( task_1 )传入的函数名task_1,在定义ctask_1函数的时候一定要写一个位置参数,这里写的是feature，\n",
    "        这个位置参数会通过add_done_callback( task_1 )方法自动传入, 而且这个参数就是 调用add_done_callback方法的feature_2对象\"\"\"\n",
    "pool.shutdown(True)\n",
    "\n",
    "for fu in futures_list:\n",
    "    fu.result()"
   ],
   "metadata": {
    "collapsed": false
   },
   "id": "637683c0fe42a125"
  },
  {
   "cell_type": "code",
   "outputs": [],
   "source": [],
   "metadata": {
    "collapsed": false
   },
   "id": "c2a3a2c1d20b88ff"
  },
  {
   "cell_type": "markdown",
   "source": [
    "# 单例模式\n",
    "对一个类进行实例化，即使多次实例化，也用同一个内存地址\n",
    "如何实现呢？需要对类实例化时的过程进行判断,如果已经创建了实例化对象，直接返回，如果没有创建，就再调用基类的__new__()方法创建"
   ],
   "metadata": {
    "collapsed": false
   },
   "id": "33b76f6f27cae92e"
  },
  {
   "cell_type": "code",
   "outputs": [],
   "source": [
    "class Singleton(object):\n",
    "    instance = None\n",
    "    def __init__(self,name):\n",
    "        self.name = name\n",
    "    \n",
    "    def __new__(cls,*args,**kwargs):\n",
    "        if cls.instance:\n",
    "            return cls.instance\n",
    "        cls.instance = object.__new__(cls)\n",
    "        return cls.instance"
   ],
   "metadata": {
    "collapsed": false
   },
   "id": "b3b06a63e5dc6875"
  },
  {
   "cell_type": "markdown",
   "source": [
    "上面的单例模式的类看似简单实现了，但是当进行多线程对这个类实例化时，仍有可能单例模式失效，造成实例化出多个对象，所以改得加以改造，加上线程锁"
   ],
   "metadata": {
    "collapsed": false
   },
   "id": "2560e7aa5624f254"
  },
  {
   "cell_type": "code",
   "outputs": [],
   "source": [
    "\n",
    "class Singleton2(object):\n",
    "    cls_lock = threading.RLock\n",
    "    instance = None\n",
    "    def __new__(cls,*args,**kwargs):\n",
    "        with cls.cls_lock:\n",
    "            if cls.instance:\n",
    "                return cls.instance\n",
    "            cls.instance = object.__new__(cls)\n",
    "            return cls.instance"
   ],
   "metadata": {
    "collapsed": false
   },
   "id": "c27a9dd90c29f1"
  },
  {
   "cell_type": "markdown",
   "source": [],
   "metadata": {
    "collapsed": false
   },
   "id": "2abc2646ee9d967e"
  },
  {
   "cell_type": "markdown",
   "source": [
    "多进程，主要学会multiprocessing.Process(target,args)方法的运用\n",
    "创建多个进程时，也会默认在每个进程中创建1个线程\n",
    "## 注意，对进程必须要在main函数下运行，这是受限于python的底层实现,不兼容spawn的方式创建进程\n",
    "win仅支持spawn创建进程\n",
    "Linux仅支持fork创建进程\n",
    "mac支持fork和spawn，默认是spawn，可以通过如下方法更改"
   ],
   "metadata": {
    "collapsed": false
   },
   "id": "4af283cf4b8a7751"
  },
  {
   "cell_type": "code",
   "outputs": [],
   "source": [
    "import multiprocessing\n",
    "\n",
    "multiprocessing.set_start_method('fork')"
   ],
   "metadata": {
    "collapsed": false
   },
   "id": "5f4045040d0c5720"
  },
  {
   "cell_type": "code",
   "outputs": [],
   "source": [
    "import multiprocessing\n",
    "\n",
    "processing_pool = []\n",
    "\n",
    "\n",
    "def task(a, b):\n",
    "    pass\n",
    "\n",
    "\n",
    "if __name__ == '__main__':\n",
    "    for i in range(10):\n",
    "        process = multiprocessing.Process(target=task, args=(a, b))\n",
    "        processing_pool.append(process)\n",
    "        process.start()\n",
    "\n",
    "    for i in processing_pool:\n",
    "        i.join()"
   ],
   "metadata": {
    "collapsed": false
   },
   "id": "9d7477370e03a3d7"
  },
  {
   "cell_type": "markdown",
   "source": [
    "## 用python的多线程进行多并发请求测试某个接口，可行么？会不会受GIL锁的影响？\n",
    "应该说影响不大，多并发请求是IO密集型操作，用python的threading模块多线程完全没问题\n",
    "如果所做的操作是计算密集型，这个时候由于要用到计算机的多核性能，python的多线程受到GIL的限制，就不适用了，要用多进程。"
   ],
   "metadata": {
    "collapsed": false
   },
   "id": "c8fe9f211314c0a6"
  },
  {
   "cell_type": "markdown",
   "source": [
    "# 常见的进程方法\n",
    "p.start() 当前进程准备就绪，等待被CPU调度（工作单元是进程中的线程）\n",
    "p.join()"
   ],
   "metadata": {
    "collapsed": false
   },
   "id": "2b2884ccb739cd2c"
  },
  {
   "cell_type": "markdown",
   "source": [
    "## 守护进程"
   ],
   "metadata": {
    "collapsed": false
   },
   "id": "4e0208f0b63813d1"
  },
  {
   "cell_type": "code",
   "outputs": [],
   "source": [
    "process.daemon(True) #  设置为守护进程，主进程退出时，子进程也会退出\n",
    "process.daemon(False) # 设置为守护进程，所有子进程全部结束，主进程才退出"
   ],
   "metadata": {
    "collapsed": false
   },
   "id": "bc249db1d4c72624"
  },
  {
   "cell_type": "markdown",
   "source": [
    "## 设置进程name"
   ],
   "metadata": {
    "collapsed": false
   },
   "id": "f41b34c49405a080"
  },
  {
   "cell_type": "code",
   "outputs": [],
   "source": [
    "# 设置线程名字\n",
    "process.name('my_process')\n",
    "# 获取当前进程名字\n",
    "multiprocessing.current_process().name\n",
    "# 获取进程id\n",
    "os.getpid()\n",
    "# 获取进程的父进程id\n",
    "os.getppid()\n",
    "# 获取进程中有多少线程\n",
    "len(threading.enumerate())"
   ],
   "metadata": {
    "collapsed": false
   },
   "id": "10783f07c5a020d0"
  },
  {
   "cell_type": "markdown",
   "source": [
    "## 自定义进程类\n",
    "类似自定义线程类，通过构建一个类继承multprocessing.Process,然后就可以在类中做定制化方法"
   ],
   "metadata": {
    "collapsed": false
   },
   "id": "a2740db9f940b286"
  },
  {
   "cell_type": "code",
   "outputs": [],
   "source": [
    "class MyProcessClass(multiprocessing.Process):\n",
    "    def __init__(self):\n",
    "        # 需要初始化的方法\n",
    "        pass\n",
    "    \n",
    "    def run(self):\n",
    "        # 需要定制使用的方法\n",
    "        pass"
   ],
   "metadata": {
    "collapsed": false,
    "is_executing": true
   },
   "id": "a5094b5ea9610024"
  },
  {
   "cell_type": "markdown",
   "source": [
    "# CPU个数\n",
    "程序一般创建多个进程（利用CPU的多核优势），有多少核，创建多少进程"
   ],
   "metadata": {
    "collapsed": false
   },
   "id": "1f97134f647effe9"
  },
  {
   "cell_type": "code",
   "outputs": [],
   "source": [
    "# 获取cpu核个数\n",
    "count = multiprocessing.cpu_count()\n",
    "# 创建进程时要考虑主进程\n",
    "for i in range(count-1):\n",
    "    multiprocessing.Process(target=task_2,args=(a,b))"
   ],
   "metadata": {
    "collapsed": false
   },
   "id": "aca4b891a5fce486"
  },
  {
   "cell_type": "markdown",
   "source": [
    "## 进程锁\n",
    "类似线程锁的作用,进程之间用到数据共享时，需要用锁。"
   ],
   "metadata": {
    "collapsed": false
   },
   "id": "6568f9f203303093"
  },
  {
   "cell_type": "code",
   "outputs": [],
   "source": [
    "manager = multiprocessing.Manager()\n",
    "process_lock = manager.RLock() # 一定要用manager的递归锁\n",
    "def multiprocess_func():\n",
    "    with process_lock:\n",
    "        # do something\n",
    "        pass\n",
    "process_pool = []\n",
    "for i in range(10):\n",
    "     p = multiprocessing.Process(target=multiprocess_func,args=(process_lock,)) # 必须把进程锁传入\n",
    "     p.start()\n",
    "     process_pool.append(p)\n",
    "\n",
    "for i in process_pool:\n",
    "    i.join()"
   ],
   "metadata": {
    "collapsed": false
   },
   "id": "784803c843cd92b7"
  },
  {
   "cell_type": "markdown",
   "source": [
    "## 进程池\n",
    "限制进程创建的数量"
   ],
   "metadata": {
    "collapsed": false
   },
   "id": "dd1466867a05e649"
  },
  {
   "cell_type": "code",
   "outputs": [],
   "source": [
    "from concurrent.futures import ProcessPoolExecutor\n",
    "p_pool = ProcessPoolExecutor(10)\n",
    "pt = p_pool.submit(task_2,a,b) # 类似start()\n",
    "pt.add_done_callback(task_1)\n",
    "p_pool.shutdown(True) # 类似join()"
   ],
   "metadata": {
    "collapsed": false
   },
   "id": "358c1a47592dd13a"
  },
  {
   "cell_type": "markdown",
   "source": [
    "# 协程\n",
    "协程时程序员人员构造出的微线程技术，用户态内上下文切换技术，简而言之，是通过一个线程实现代码块互相切换执行\n",
    "- asyncio模块的async语法"
   ],
   "metadata": {
    "collapsed": false
   },
   "id": "36754859bc157b51"
  }
 ],
 "metadata": {
  "kernelspec": {
   "display_name": "Python 3",
   "language": "python",
   "name": "python3"
  },
  "language_info": {
   "codemirror_mode": {
    "name": "ipython",
    "version": 2
   },
   "file_extension": ".py",
   "mimetype": "text/x-python",
   "name": "python",
   "nbconvert_exporter": "python",
   "pygments_lexer": "ipython2",
   "version": "2.7.6"
  }
 },
 "nbformat": 4,
 "nbformat_minor": 5
}
