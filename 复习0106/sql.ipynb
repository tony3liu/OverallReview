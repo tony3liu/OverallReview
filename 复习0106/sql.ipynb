{
 "cells": [
  {
   "cell_type": "markdown",
   "source": [
    "# 创建表\n",
    "create table 表名(\n",
    "    列名 int not Null auto incretment primary key ，\n",
    "    列名 数据类型，\n",
    "    ...);\n",
    "\n",
    "# 删除表\n",
    "drop 表名;\n",
    "\n",
    "# 插入值\n",
    "insert into 表名(列名，列名) \n",
    "value\n",
    "(val1,val2 ),\n",
    "(val1,val2) ;\n",
    "\n",
    "# 查询\n",
    "select 列 from 表 where 条件；\n",
    "select * from 表 where 条件；\n",
    "select 聚合函数 from 表 where 条件；\n",
    "select * from 表1 表2 where 表1.列=表2.列；\n",
    "select 列名，count(列名) from 表 where 条件 group by 列名；\n",
    "\n",
    "# 更新值\n",
    "update 表\n",
    " set 列=新值 \n",
    " where 条件；\n",
    " \n",
    "# 删除值\n",
    "delete from 表 where 条件;\n"
   ],
   "metadata": {
    "collapsed": false
   },
   "id": "18d8103a8c2e15ff"
  },
  {
   "cell_type": "markdown",
   "source": [
    "# python 的数据库连接"
   ],
   "metadata": {
    "collapsed": false
   },
   "id": "eacc7caa29f04729"
  },
  {
   "cell_type": "code",
   "outputs": [],
   "source": [
    "import pymysql  \n",
    "\n",
    "\n",
    "db_cfg = {\n",
    "    \"host\": 'localhost',\n",
    "    \"port\": 3306,\n",
    "    \"user\": 'root',\n",
    "    \"password\": '',\n",
    "    \"database\": 'stu_python',\n",
    "    \"charset\": 'utf8'\n",
    "}\n",
    "\n",
    "\n",
    "def query_db(sql,*args,**kwargs):\n",
    "    with pymysql.connect(**db_cfg) as con:\n",
    "        with con.cursor() as cursor:\n",
    "            cursor.execute(sql,*args,**kwargs)\n",
    "            # 获取所有查询结果，用fetchall()\n",
    "            # 获取第一条查询结果，用fetchone()\n",
    "            res = cursor.fetchall()\n",
    "            for row in res:\n",
    "                print(row)\n",
    "\n",
    "\n",
    "def execute_db(sql,*args,**kwargs):\n",
    "    with pymysql.connect(**db_cfg) as con:\n",
    "        try:\n",
    "            with con.cursor() as cursor:\n",
    "                cursor.execute(sql,*args,**kwargs)\n",
    "            con.commit()\n",
    "        except Exception as e:\n",
    "            con.rollback()\n",
    "            print(e)\n",
    "            \n",
    "# 千万不能用字符串格式化做sq的拼接\n",
    "# 务必pymysql内部的占位符%s\n",
    "\n",
    "if __name__ == '__main__':\n",
    "    sql = 'insert into dj_learn(username,age) values (%s,%s);'\n",
    "    execute_db(sql,[\"刘鸣凯\",1])\n",
    "    \n",
    "    sql2 = 'insert into dj_learn(username,age) values (%(username)s,%(age)s)'\n",
    "    execute_db(sql2,{\"username\":\"刘鸣鹿\",\"age\":1})\n",
    "    query_db('select * from dj_learn')"
   ],
   "metadata": {
    "collapsed": false,
    "is_executing": true
   },
   "id": "e4459753f03beddd"
  }
 ],
 "metadata": {
  "kernelspec": {
   "display_name": "Python 3",
   "language": "python",
   "name": "python3"
  },
  "language_info": {
   "codemirror_mode": {
    "name": "ipython",
    "version": 2
   },
   "file_extension": ".py",
   "mimetype": "text/x-python",
   "name": "python",
   "nbconvert_exporter": "python",
   "pygments_lexer": "ipython2",
   "version": "2.7.6"
  }
 },
 "nbformat": 4,
 "nbformat_minor": 5
}
