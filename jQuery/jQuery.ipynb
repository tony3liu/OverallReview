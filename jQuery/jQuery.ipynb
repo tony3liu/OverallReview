{
 "cells": [
  {
   "cell_type": "markdown",
   "source": [
    "jQuery是JS的第三方库\n",
    "- 基于jQuery，自己开发一个功能\n",
    "- 现成的工具依赖jQuery"
   ],
   "metadata": {
    "collapsed": false
   },
   "id": "ad078357ad0d633a"
  },
  {
   "cell_type": "markdown",
   "source": [
    "# 快速上手jQuery\n",
    "- 引入jQuery库\n",
    "<script src=\"https://ajax.googleapis.com/ajax/libs/jquery/3.5.1/jquery.min.js\"></script>"
   ],
   "metadata": {
    "collapsed": false
   },
   "id": "d470934b49680a4c"
  },
  {
   "cell_type": "markdown",
   "source": [
    " // jQuery跟CSS的选择器相同\n",
    " // jQuery的id选择器\n",
    " \n",
    "    $(\"#text1\").text(\"河南移动\");\n",
    "// jQuery的class选择器\n",
    "\n",
    "     $(\".c2\")\n",
    " // jQuery的标签选择器\n",
    " \n",
    "    $(\"div\")\n",
    " // 层级选择器\n",
    " \n",
    "    $(\"div > p\")\n",
    "    $(\"div div p\")\n",
    " // 多选择器,可以找到多个标签，一起处理\n",
    " \n",
    "    $(\"#c3, div > a\")\n",
    " // 属性选择器\n",
    " \n",
    "    $(\"a[name='na1']\")\n",
    " // 间接寻找上一个的兄弟标签,支持链式操作\n",
    " \n",
    "    $(\"#c1\").prev().prev().prev()\n",
    " // 间接寻找下一个的兄弟标签，支持链式操作\n",
    " \n",
    "    $(\"#c1\").next().next().next()\n",
    " // 找到所有的兄弟标签\n",
    "    \n",
    "    $(\"div > p\").siblings()\n",
    " // 寻找父级标签,支持链式操作\n",
    " \n",
    "    $(\"div > p\").parent()\n",
    " // 寻找所有子级标签，支持链式操作\n",
    " \n",
    "    $(\"div >p\").children()\n",
    " // 寻找特定的子级标签\n",
    " \n",
    "    $(\"#c1\").children(\"#c2\")\n",
    " // 寻找特定的子孙标签\n",
    "    \n",
    "    $(\"#c1\").find(\"#c2\")\n"
   ],
   "metadata": {
    "collapsed": false
   },
   "id": "62dced0ffe09b2d9"
  },
  {
   "cell_type": "markdown",
   "source": [
    "# 对值操作\n",
    "// 获取文本内容\n",
    "\n",
    "    $(\"#c1\").text()\n",
    "//设置文本内容\n",
    "\n",
    "    $(\"#c1\").text(\"设置的文本内容\")\n",
    "    \n",
    "// 获取用户输入的值\n",
    "\n",
    "    $(\"#c1\").val()\n",
    "// 设置值，在输入框中设置一个值\n",
    "\n",
    "    $(\"#c1\").val(\"设置的值\")\n"
   ],
   "metadata": {
    "collapsed": false
   },
   "id": "cc76a141a0e40013"
  },
  {
   "cell_type": "markdown",
   "source": [
    "# jquery的绑定事件\n",
    "$(\".c2\").click(function(){\n",
    "    alert(\"点击了\");\n",
    "})"
   ],
   "metadata": {
    "collapsed": false
   },
   "id": "3ce0a4174cdf4004"
  },
  {
   "cell_type": "markdown",
   "source": [
    "#  jquery删除标签\n",
    "$(\"#c1\").remove()"
   ],
   "metadata": {
    "collapsed": false
   },
   "id": "5ce53cc337416106"
  },
  {
   "cell_type": "markdown",
   "source": [
    "# 当页面框架加载完成之后，执行的代码\n",
    "$(function(){};)"
   ],
   "metadata": {
    "collapsed": false
   },
   "id": "f1b93ec4a7fcb480"
  }
 ],
 "metadata": {
  "kernelspec": {
   "display_name": "Python 3",
   "language": "python",
   "name": "python3"
  },
  "language_info": {
   "codemirror_mode": {
    "name": "ipython",
    "version": 2
   },
   "file_extension": ".py",
   "mimetype": "text/x-python",
   "name": "python",
   "nbconvert_exporter": "python",
   "pygments_lexer": "ipython2",
   "version": "2.7.6"
  }
 },
 "nbformat": 4,
 "nbformat_minor": 5
}
